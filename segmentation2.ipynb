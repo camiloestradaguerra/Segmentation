{
 "cells": [
  {
   "cell_type": "markdown",
   "id": "50870b3a",
   "metadata": {},
   "source": [
    "# Librerias"
   ]
  },
  {
   "cell_type": "code",
   "execution_count": 1,
   "id": "993c55c9",
   "metadata": {},
   "outputs": [],
   "source": [
    "import pandas as pd\n",
    "import matplotlib.pyplot as plt\n",
    "from sklearn.preprocessing import MinMaxScaler\n",
    "from sklearn.cluster import KMeans"
   ]
  },
  {
   "cell_type": "markdown",
   "id": "dac0fab0",
   "metadata": {},
   "source": [
    "# Datos"
   ]
  },
  {
   "cell_type": "code",
   "execution_count": 2,
   "id": "94e03094",
   "metadata": {},
   "outputs": [],
   "source": [
    "clientes = pd.DataFrame({\"saldo\" : [50000, 45000, 48000, 43500, 47000, 52000,\n",
    "                                   20000, 26000,  25000, 23000, 21400, 18000,\n",
    "                                   8000, 12000, 6000, 14500, 12600, 7000],\n",
    "                         \n",
    "                         \"transacciones\": [25, 20, 16, 23, 25, 18,\n",
    "                                           23, 22, 24, 21, 27, 18, \n",
    "                                           8, 3, 6, 4, 9, 3]})"
   ]
  },
  {
   "cell_type": "markdown",
   "id": "4c7f2bae",
   "metadata": {},
   "source": [
    "# Escalamiento de los Datos"
   ]
  },
  {
   "cell_type": "code",
   "execution_count": 3,
   "id": "737189ee",
   "metadata": {},
   "outputs": [],
   "source": [
    "scaler = MinMaxScaler().fit(clientes.values)\n",
    "\n",
    "clientes =pd.DataFrame(scaler.transform(clientes.values),\n",
    "                      columns=clientes.columns)"
   ]
  },
  {
   "cell_type": "markdown",
   "id": "46f8685d",
   "metadata": {},
   "source": [
    "# Modelo"
   ]
  },
  {
   "cell_type": "code",
   "execution_count": 4,
   "id": "07265e41",
   "metadata": {},
   "outputs": [
    {
     "data": {
      "text/html": [
       "<div>\n",
       "<style scoped>\n",
       "    .dataframe tbody tr th:only-of-type {\n",
       "        vertical-align: middle;\n",
       "    }\n",
       "\n",
       "    .dataframe tbody tr th {\n",
       "        vertical-align: top;\n",
       "    }\n",
       "\n",
       "    .dataframe thead th {\n",
       "        text-align: right;\n",
       "    }\n",
       "</style>\n",
       "<table border=\"1\" class=\"dataframe\">\n",
       "  <thead>\n",
       "    <tr style=\"text-align: right;\">\n",
       "      <th></th>\n",
       "      <th>saldo</th>\n",
       "      <th>transacciones</th>\n",
       "      <th>cluster</th>\n",
       "    </tr>\n",
       "  </thead>\n",
       "  <tbody>\n",
       "    <tr>\n",
       "      <th>0</th>\n",
       "      <td>0.956522</td>\n",
       "      <td>0.916667</td>\n",
       "      <td>0</td>\n",
       "    </tr>\n",
       "    <tr>\n",
       "      <th>1</th>\n",
       "      <td>0.847826</td>\n",
       "      <td>0.708333</td>\n",
       "      <td>0</td>\n",
       "    </tr>\n",
       "    <tr>\n",
       "      <th>2</th>\n",
       "      <td>0.913043</td>\n",
       "      <td>0.541667</td>\n",
       "      <td>0</td>\n",
       "    </tr>\n",
       "    <tr>\n",
       "      <th>3</th>\n",
       "      <td>0.815217</td>\n",
       "      <td>0.833333</td>\n",
       "      <td>0</td>\n",
       "    </tr>\n",
       "    <tr>\n",
       "      <th>4</th>\n",
       "      <td>0.891304</td>\n",
       "      <td>0.916667</td>\n",
       "      <td>0</td>\n",
       "    </tr>\n",
       "  </tbody>\n",
       "</table>\n",
       "</div>"
      ],
      "text/plain": [
       "      saldo  transacciones  cluster\n",
       "0  0.956522       0.916667        0\n",
       "1  0.847826       0.708333        0\n",
       "2  0.913043       0.541667        0\n",
       "3  0.815217       0.833333        0\n",
       "4  0.891304       0.916667        0"
      ]
     },
     "execution_count": 4,
     "metadata": {},
     "output_type": "execute_result"
    }
   ],
   "source": [
    "kmeans = KMeans(n_clusters=3).fit(clientes.values)\n",
    "clientes[\"cluster\"] = kmeans.labels_\n",
    "clientes.head()"
   ]
  },
  {
   "cell_type": "code",
   "execution_count": 5,
   "id": "908614fc",
   "metadata": {},
   "outputs": [
    {
     "name": "stdout",
     "output_type": "stream",
     "text": [
      "[[0.90398551 0.75694444]\n",
      " [0.08731884 0.10416667]\n",
      " [0.35289855 0.8125    ]] 0.3334968800322061\n"
     ]
    }
   ],
   "source": [
    "print(kmeans.cluster_centers_, kmeans.inertia_)"
   ]
  },
  {
   "cell_type": "markdown",
   "id": "53384bcf",
   "metadata": {},
   "source": [
    "# Gráficas "
   ]
  },
  {
   "cell_type": "code",
   "execution_count": 6,
   "id": "a4c81a8a",
   "metadata": {},
   "outputs": [
    {
     "data": {
      "image/png": "[encoded data removed]",
      "text/plain": [
       "<Figure size 432x288 with 1 Axes>"
      ]
     },
     "metadata": {
      "needs_background": "light"
     },
     "output_type": "display_data"
    }
   ],
   "source": [
    "# plt.figure(figsize=(6,5), dpi=100)\n",
    "\n",
    "colores = [\"red\", \"blue\", \"orange\", \"black\", \"purple\", \"pink\", \"brown\"]\n",
    "\n",
    "for cluster in range(kmeans.n_clusters):\n",
    "    plt.scatter(clientes[clientes[\"cluster\"]==cluster][\"saldo\"],\n",
    "                clientes[clientes[\"cluster\"]==cluster][\"transacciones\"],\n",
    "                marker=\"o\", s=280, color=colores[cluster], alpha=0.5)\n",
    "    plt.scatter(kmeans.cluster_centers_[cluster][0],\n",
    "                kmeans.cluster_centers_[cluster][1],\n",
    "                marker=\"P\", s=280, color=colores[cluster])\n",
    "    \n",
    "plt.title(\"Clientes\", fontsize=20)\n",
    "plt.xlabel(\"Saldo en cuenta de ahorros (pesos)\", fontsize=15)\n",
    "plt.ylabel(\"Veces que usó la tarjeta de crédito\", fontsize=15)\n",
    "plt.text(1.15, 0.2, \"K = %i\" % kmeans.n_clusters, fontsize=25)\n",
    "plt.text(1.15, 0, \"Inercia = %0.2f\" % kmeans.inertia_, fontsize=25)\n",
    "plt.xlim(-0.1, 1.1)\n",
    "plt.ylim(-0.1, 1.1)\n",
    "plt.show()\n"
   ]
  },
  {
   "cell_type": "markdown",
   "id": "3a74bbe7",
   "metadata": {},
   "source": [
    "# Método del Codo"
   ]
  },
  {
   "cell_type": "markdown",
   "id": "0e4aa09e",
   "metadata": {},
   "source": [
    "## Cálculo del número de Clústers (K)"
   ]
  },
  {
   "cell_type": "code",
   "execution_count": 7,
   "id": "8a542f90",
   "metadata": {},
   "outputs": [
    {
     "data": {
      "image/png": "[encoded data removed]",
      "text/plain": [
       "<Figure size 600x500 with 1 Axes>"
      ]
     },
     "metadata": {
      "needs_background": "light"
     },
     "output_type": "display_data"
    }
   ],
   "source": [
    "inercias = []\n",
    "for k in range(2, 10):\n",
    "    kmeans = KMeans(n_clusters=k).fit(clientes.values)\n",
    "    inercias.append(kmeans.inertia_)\n",
    "    \n",
    "plt.figure(figsize=(6, 5), dpi=100)\n",
    "plt.scatter(range(2,10), inercias, marker='o', s=180, color=\"purple\")\n",
    "plt.xlabel(\"Número de Clústers\", fontsize=25)\n",
    "plt.ylabel(\"Inercia\", fontsize=25)\n",
    "plt.show()"
   ]
  }
 ],
 "metadata": {
  "kernelspec": {
   "display_name": "Python 3 (ipykernel)",
   "language": "python",
   "name": "python3"
  },
  "language_info": {
   "codemirror_mode": {
    "name": "ipython",
    "version": 3
   },
   "file_extension": ".py",
   "mimetype": "text/x-python",
   "name": "python",
   "nbconvert_exporter": "python",
   "pygments_lexer": "ipython3",
   "version": "3.8.5"
  }
 },
 "nbformat": 4,
 "nbformat_minor": 5
}
